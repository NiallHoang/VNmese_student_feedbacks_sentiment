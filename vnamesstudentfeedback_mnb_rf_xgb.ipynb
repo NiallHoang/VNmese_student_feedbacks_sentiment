{
  "nbformat": 4,
  "nbformat_minor": 0,
  "metadata": {
    "colab": {
      "provenance": []
    },
    "kernelspec": {
      "name": "python3",
      "display_name": "Python 3"
    },
    "language_info": {
      "name": "python"
    }
  },
  "cells": [
    {
      "cell_type": "code",
      "source": [
        "!pip install underthesea\n",
        "!pip install pyvi\n",
        "!pip install regex\n",
        "!pip install imblearn\n",
        "!pip install vncorenlp"
      ],
      "metadata": {
        "colab": {
          "base_uri": "https://localhost:8080/"
        },
        "id": "Heq5_F37-aqc",
        "outputId": "976f0058-6cc0-4de9-d89c-0e70b9759796",
        "collapsed": true
      },
      "execution_count": 1,
      "outputs": [
        {
          "output_type": "stream",
          "name": "stdout",
          "text": [
            "Collecting underthesea\n",
            "  Downloading underthesea-6.8.4-py3-none-any.whl.metadata (15 kB)\n",
            "Requirement already satisfied: Click>=6.0 in /usr/local/lib/python3.11/dist-packages (from underthesea) (8.1.8)\n",
            "Collecting python-crfsuite>=0.9.6 (from underthesea)\n",
            "  Downloading python_crfsuite-0.9.11-cp311-cp311-manylinux_2_17_x86_64.manylinux2014_x86_64.whl.metadata (4.3 kB)\n",
            "Requirement already satisfied: nltk in /usr/local/lib/python3.11/dist-packages (from underthesea) (3.9.1)\n",
            "Requirement already satisfied: tqdm in /usr/local/lib/python3.11/dist-packages (from underthesea) (4.67.1)\n",
            "Requirement already satisfied: requests in /usr/local/lib/python3.11/dist-packages (from underthesea) (2.32.3)\n",
            "Requirement already satisfied: joblib in /usr/local/lib/python3.11/dist-packages (from underthesea) (1.4.2)\n",
            "Requirement already satisfied: scikit-learn in /usr/local/lib/python3.11/dist-packages (from underthesea) (1.6.1)\n",
            "Requirement already satisfied: PyYAML in /usr/local/lib/python3.11/dist-packages (from underthesea) (6.0.2)\n",
            "Collecting underthesea-core==1.0.4 (from underthesea)\n",
            "  Downloading underthesea_core-1.0.4-cp311-cp311-manylinux2010_x86_64.whl.metadata (1.7 kB)\n",
            "Requirement already satisfied: regex>=2021.8.3 in /usr/local/lib/python3.11/dist-packages (from nltk->underthesea) (2024.11.6)\n",
            "Requirement already satisfied: charset-normalizer<4,>=2 in /usr/local/lib/python3.11/dist-packages (from requests->underthesea) (3.4.1)\n",
            "Requirement already satisfied: idna<4,>=2.5 in /usr/local/lib/python3.11/dist-packages (from requests->underthesea) (3.10)\n",
            "Requirement already satisfied: urllib3<3,>=1.21.1 in /usr/local/lib/python3.11/dist-packages (from requests->underthesea) (2.3.0)\n",
            "Requirement already satisfied: certifi>=2017.4.17 in /usr/local/lib/python3.11/dist-packages (from requests->underthesea) (2025.1.31)\n",
            "Requirement already satisfied: numpy>=1.19.5 in /usr/local/lib/python3.11/dist-packages (from scikit-learn->underthesea) (1.26.4)\n",
            "Requirement already satisfied: scipy>=1.6.0 in /usr/local/lib/python3.11/dist-packages (from scikit-learn->underthesea) (1.13.1)\n",
            "Requirement already satisfied: threadpoolctl>=3.1.0 in /usr/local/lib/python3.11/dist-packages (from scikit-learn->underthesea) (3.5.0)\n",
            "Downloading underthesea-6.8.4-py3-none-any.whl (20.9 MB)\n",
            "\u001b[2K   \u001b[90m━━━━━━━━━━━━━━━━━━━━━━━━━━━━━━━━━━━━━━━━\u001b[0m \u001b[32m20.9/20.9 MB\u001b[0m \u001b[31m34.5 MB/s\u001b[0m eta \u001b[36m0:00:00\u001b[0m\n",
            "\u001b[?25hDownloading underthesea_core-1.0.4-cp311-cp311-manylinux2010_x86_64.whl (657 kB)\n",
            "\u001b[2K   \u001b[90m━━━━━━━━━━━━━━━━━━━━━━━━━━━━━━━━━━━━━━━━\u001b[0m \u001b[32m657.8/657.8 kB\u001b[0m \u001b[31m25.3 MB/s\u001b[0m eta \u001b[36m0:00:00\u001b[0m\n",
            "\u001b[?25hDownloading python_crfsuite-0.9.11-cp311-cp311-manylinux_2_17_x86_64.manylinux2014_x86_64.whl (1.3 MB)\n",
            "\u001b[2K   \u001b[90m━━━━━━━━━━━━━━━━━━━━━━━━━━━━━━━━━━━━━━━━\u001b[0m \u001b[32m1.3/1.3 MB\u001b[0m \u001b[31m19.0 MB/s\u001b[0m eta \u001b[36m0:00:00\u001b[0m\n",
            "\u001b[?25hInstalling collected packages: underthesea-core, python-crfsuite, underthesea\n",
            "Successfully installed python-crfsuite-0.9.11 underthesea-6.8.4 underthesea-core-1.0.4\n",
            "Collecting pyvi\n",
            "  Downloading pyvi-0.1.1-py2.py3-none-any.whl.metadata (2.5 kB)\n",
            "Requirement already satisfied: scikit-learn in /usr/local/lib/python3.11/dist-packages (from pyvi) (1.6.1)\n",
            "Collecting sklearn-crfsuite (from pyvi)\n",
            "  Downloading sklearn_crfsuite-0.5.0-py2.py3-none-any.whl.metadata (4.9 kB)\n",
            "Requirement already satisfied: numpy>=1.19.5 in /usr/local/lib/python3.11/dist-packages (from scikit-learn->pyvi) (1.26.4)\n",
            "Requirement already satisfied: scipy>=1.6.0 in /usr/local/lib/python3.11/dist-packages (from scikit-learn->pyvi) (1.13.1)\n",
            "Requirement already satisfied: joblib>=1.2.0 in /usr/local/lib/python3.11/dist-packages (from scikit-learn->pyvi) (1.4.2)\n",
            "Requirement already satisfied: threadpoolctl>=3.1.0 in /usr/local/lib/python3.11/dist-packages (from scikit-learn->pyvi) (3.5.0)\n",
            "Requirement already satisfied: python-crfsuite>=0.9.7 in /usr/local/lib/python3.11/dist-packages (from sklearn-crfsuite->pyvi) (0.9.11)\n",
            "Requirement already satisfied: tabulate>=0.4.2 in /usr/local/lib/python3.11/dist-packages (from sklearn-crfsuite->pyvi) (0.9.0)\n",
            "Requirement already satisfied: tqdm>=2.0 in /usr/local/lib/python3.11/dist-packages (from sklearn-crfsuite->pyvi) (4.67.1)\n",
            "Downloading pyvi-0.1.1-py2.py3-none-any.whl (8.5 MB)\n",
            "\u001b[2K   \u001b[90m━━━━━━━━━━━━━━━━━━━━━━━━━━━━━━━━━━━━━━━━\u001b[0m \u001b[32m8.5/8.5 MB\u001b[0m \u001b[31m42.4 MB/s\u001b[0m eta \u001b[36m0:00:00\u001b[0m\n",
            "\u001b[?25hDownloading sklearn_crfsuite-0.5.0-py2.py3-none-any.whl (10 kB)\n",
            "Installing collected packages: sklearn-crfsuite, pyvi\n",
            "Successfully installed pyvi-0.1.1 sklearn-crfsuite-0.5.0\n",
            "Requirement already satisfied: regex in /usr/local/lib/python3.11/dist-packages (2024.11.6)\n",
            "Collecting imblearn\n",
            "  Downloading imblearn-0.0-py2.py3-none-any.whl.metadata (355 bytes)\n",
            "Requirement already satisfied: imbalanced-learn in /usr/local/lib/python3.11/dist-packages (from imblearn) (0.13.0)\n",
            "Requirement already satisfied: numpy<3,>=1.24.3 in /usr/local/lib/python3.11/dist-packages (from imbalanced-learn->imblearn) (1.26.4)\n",
            "Requirement already satisfied: scipy<2,>=1.10.1 in /usr/local/lib/python3.11/dist-packages (from imbalanced-learn->imblearn) (1.13.1)\n",
            "Requirement already satisfied: scikit-learn<2,>=1.3.2 in /usr/local/lib/python3.11/dist-packages (from imbalanced-learn->imblearn) (1.6.1)\n",
            "Requirement already satisfied: sklearn-compat<1,>=0.1 in /usr/local/lib/python3.11/dist-packages (from imbalanced-learn->imblearn) (0.1.3)\n",
            "Requirement already satisfied: joblib<2,>=1.1.1 in /usr/local/lib/python3.11/dist-packages (from imbalanced-learn->imblearn) (1.4.2)\n",
            "Requirement already satisfied: threadpoolctl<4,>=2.0.0 in /usr/local/lib/python3.11/dist-packages (from imbalanced-learn->imblearn) (3.5.0)\n",
            "Downloading imblearn-0.0-py2.py3-none-any.whl (1.9 kB)\n",
            "Installing collected packages: imblearn\n",
            "Successfully installed imblearn-0.0\n",
            "Collecting vncorenlp\n",
            "  Downloading vncorenlp-1.0.3.tar.gz (2.6 MB)\n",
            "\u001b[2K     \u001b[90m━━━━━━━━━━━━━━━━━━━━━━━━━━━━━━━━━━━━━━━━\u001b[0m \u001b[32m2.6/2.6 MB\u001b[0m \u001b[31m27.6 MB/s\u001b[0m eta \u001b[36m0:00:00\u001b[0m\n",
            "\u001b[?25h  Preparing metadata (setup.py) ... \u001b[?25l\u001b[?25hdone\n",
            "Requirement already satisfied: requests in /usr/local/lib/python3.11/dist-packages (from vncorenlp) (2.32.3)\n",
            "Requirement already satisfied: charset-normalizer<4,>=2 in /usr/local/lib/python3.11/dist-packages (from requests->vncorenlp) (3.4.1)\n",
            "Requirement already satisfied: idna<4,>=2.5 in /usr/local/lib/python3.11/dist-packages (from requests->vncorenlp) (3.10)\n",
            "Requirement already satisfied: urllib3<3,>=1.21.1 in /usr/local/lib/python3.11/dist-packages (from requests->vncorenlp) (2.3.0)\n",
            "Requirement already satisfied: certifi>=2017.4.17 in /usr/local/lib/python3.11/dist-packages (from requests->vncorenlp) (2025.1.31)\n",
            "Building wheels for collected packages: vncorenlp\n",
            "  Building wheel for vncorenlp (setup.py) ... \u001b[?25l\u001b[?25hdone\n",
            "  Created wheel for vncorenlp: filename=vncorenlp-1.0.3-py3-none-any.whl size=2645932 sha256=da3876b7d0c36176be3442047b751d625fa8694395df8857de27d72c2d805947\n",
            "  Stored in directory: /root/.cache/pip/wheels/80/ad/d4/9e1a0939f63331a3898f2a951a368bbf0d69f7b027cae4d66b\n",
            "Successfully built vncorenlp\n",
            "Installing collected packages: vncorenlp\n",
            "Successfully installed vncorenlp-1.0.3\n"
          ]
        }
      ]
    },
    {
      "cell_type": "markdown",
      "source": [
        "# Connect to Drive"
      ],
      "metadata": {
        "id": "0fpuC_rCNkgT"
      }
    },
    {
      "cell_type": "code",
      "source": [
        "from google.colab import drive\n",
        "drive.mount('/content/drive')"
      ],
      "metadata": {
        "colab": {
          "base_uri": "https://localhost:8080/"
        },
        "id": "XB78nymyLQqL",
        "outputId": "7ce779db-a8ed-4fb3-e806-fac401f2ebbb"
      },
      "execution_count": 2,
      "outputs": [
        {
          "output_type": "stream",
          "name": "stdout",
          "text": [
            "Mounted at /content/drive\n"
          ]
        }
      ]
    },
    {
      "cell_type": "markdown",
      "source": [
        "# Libraries"
      ],
      "metadata": {
        "id": "3u8S_9LoPBn_"
      }
    },
    {
      "cell_type": "code",
      "execution_count": 38,
      "metadata": {
        "id": "oV7jWkN1791n"
      },
      "outputs": [],
      "source": [
        "import numpy as np\n",
        "import pandas as pd\n",
        "import matplotlib.pyplot as plt\n",
        "import seaborn as sns\n",
        "\n",
        "# Preprocessing\n",
        "from underthesea import word_tokenize, pos_tag, sent_tokenize\n",
        "import regex\n",
        "import re\n",
        "import string\n",
        "from collections import Counter\n",
        "\n",
        "from vncorenlp import VnCoreNLP\n",
        "from pyvi import ViTokenizer\n",
        "import itertools\n",
        "from wordcloud import WordCloud\n",
        "from sklearn.model_selection import train_test_split\n",
        "\n",
        "#Feature Engineering\n",
        "from sklearn.feature_extraction.text import TfidfVectorizer\n",
        "from imblearn.over_sampling import SMOTE\n",
        "from joblib import dump, load\n",
        "\n",
        "#Model\n",
        "from sklearn.naive_bayes import MultinomialNB\n",
        "from sklearn.ensemble import RandomForestClassifier\n",
        "import xgboost as xgb\n",
        "from sklearn.metrics import accuracy_score, precision_score, recall_score, f1_score, confusion_matrix\n",
        "from sklearn.model_selection import GridSearchCV"
      ]
    },
    {
      "cell_type": "markdown",
      "source": [
        "# Get data"
      ],
      "metadata": {
        "id": "3lGgU2SpPH41"
      }
    },
    {
      "cell_type": "code",
      "source": [
        "def get_data(data_path_sents, data_path_sentiments):\n",
        "    with open(data_path_sents, 'r', encoding='utf-8') as file:\n",
        "        sents = file.readlines()\n",
        "    with open(data_path_sentiments, 'r', encoding='utf-8') as file:\n",
        "        sentiments = file.readlines()\n",
        "    return pd.DataFrame({'sentences':sents, 'sentiments':sentiments})"
      ],
      "metadata": {
        "id": "W_gF7Gf4-Lng"
      },
      "execution_count": 4,
      "outputs": []
    },
    {
      "cell_type": "code",
      "source": [
        "train_data = get_data('/content/drive/Othercomputers/My Laptop/MachineLearning/VNmese_student_feedbacks_sentiment/train-20241208T060932Z-001/sents.txt', '/content/drive/Othercomputers/My Laptop/MachineLearning/VNmese_student_feedbacks_sentiment/train-20241208T060932Z-001/sentiments.txt')\n",
        "test_data = get_data('/content/drive/Othercomputers/My Laptop/MachineLearning/VNmese_student_feedbacks_sentiment/test-20241208T060919Z-001/sents.txt', '/content/drive/Othercomputers/My Laptop/MachineLearning/VNmese_student_feedbacks_sentiment/test-20241208T060919Z-001/sentiments.txt')"
      ],
      "metadata": {
        "id": "d2zcchst-Qnj"
      },
      "execution_count": 5,
      "outputs": []
    },
    {
      "cell_type": "code",
      "source": [
        "print(train_data.shape)\n",
        "print(test_data.shape)"
      ],
      "metadata": {
        "colab": {
          "base_uri": "https://localhost:8080/"
        },
        "id": "y2m5PVs4-YX2",
        "outputId": "a2801027-ed92-4b4a-9d57-77fa02e8ec9d"
      },
      "execution_count": 6,
      "outputs": [
        {
          "output_type": "stream",
          "name": "stdout",
          "text": [
            "(11426, 2)\n",
            "(3166, 2)\n"
          ]
        }
      ]
    },
    {
      "cell_type": "markdown",
      "source": [
        "# Preprocessing"
      ],
      "metadata": {
        "id": "a6FHTWIK_L6R"
      }
    },
    {
      "cell_type": "markdown",
      "source": [
        "## Sentiments"
      ],
      "metadata": {
        "id": "x6GdYtsDPWBR"
      }
    },
    {
      "cell_type": "code",
      "source": [
        "def process_sentiment(text):\n",
        "    text = text.replace('\\n', '')\n",
        "    return text\n",
        "train_data['sentiments'] = train_data['sentiments'].apply(lambda x: process_sentiment(str(x)))\n",
        "train_data['sentiments'] = train_data['sentiments'].astype(int)"
      ],
      "metadata": {
        "id": "tO0PDpYBAQGN"
      },
      "execution_count": 7,
      "outputs": []
    },
    {
      "cell_type": "code",
      "source": [
        "print(train_data['sentiments'].value_counts())\n",
        "train_data['sentiments'].value_counts().plot.bar()"
      ],
      "metadata": {
        "colab": {
          "base_uri": "https://localhost:8080/",
          "height": 548
        },
        "id": "BzzHZ5ATV5E1",
        "outputId": "5c1a4057-fea2-430e-d25a-ee7d5fcdce77"
      },
      "execution_count": 8,
      "outputs": [
        {
          "output_type": "stream",
          "name": "stdout",
          "text": [
            "sentiments\n",
            "2    5643\n",
            "0    5325\n",
            "1     458\n",
            "Name: count, dtype: int64\n"
          ]
        },
        {
          "output_type": "execute_result",
          "data": {
            "text/plain": [
              "<Axes: xlabel='sentiments'>"
            ]
          },
          "metadata": {},
          "execution_count": 8
        },
        {
          "output_type": "display_data",
          "data": {
            "text/plain": [
              "<Figure size 640x480 with 1 Axes>"
            ],
            "image/png": "[encoded data removed]"
          },
          "metadata": {}
        }
      ]
    },
    {
      "cell_type": "code",
      "source": [
        "test_data['sentiments'] = test_data['sentiments'].apply(lambda x: process_sentiment(str(x)))\n",
        "test_data['sentiments'] = test_data['sentiments'].astype(int)"
      ],
      "metadata": {
        "id": "K1qGXx2mV6nm"
      },
      "execution_count": 9,
      "outputs": []
    },
    {
      "cell_type": "code",
      "source": [
        "print(test_data['sentiments'].value_counts())\n",
        "test_data['sentiments'].value_counts().plot.bar()"
      ],
      "metadata": {
        "colab": {
          "base_uri": "https://localhost:8080/",
          "height": 548
        },
        "id": "umh1ta9CV_Ov",
        "outputId": "9b354ca0-668b-44a1-c9a8-ab6fa0af9d7d"
      },
      "execution_count": 10,
      "outputs": [
        {
          "output_type": "stream",
          "name": "stdout",
          "text": [
            "sentiments\n",
            "2    1590\n",
            "0    1409\n",
            "1     167\n",
            "Name: count, dtype: int64\n"
          ]
        },
        {
          "output_type": "execute_result",
          "data": {
            "text/plain": [
              "<Axes: xlabel='sentiments'>"
            ]
          },
          "metadata": {},
          "execution_count": 10
        },
        {
          "output_type": "display_data",
          "data": {
            "text/plain": [
              "<Figure size 640x480 with 1 Axes>"
            ],
            "image/png": "[encoded data removed]"
          },
          "metadata": {}
        }
      ]
    },
    {
      "cell_type": "markdown",
      "source": [
        "## Sentences"
      ],
      "metadata": {
        "id": "-F9T8NGEQ4fB"
      }
    },
    {
      "cell_type": "markdown",
      "source": [
        "### Teencode, punctuation, numbers, lowercase"
      ],
      "metadata": {
        "id": "HCBeQBAeRB-k"
      }
    },
    {
      "cell_type": "code",
      "source": [
        "#LOAD TEENCODE\n",
        "file = open('/content/drive/Othercomputers/My Laptop/MachineLearning/VNmese_student_feedbacks_sentiment/file_preprocess/teencode.txt', 'r', encoding=\"utf8\")\n",
        "teen_lst = file.read().split('\\n')\n",
        "teen_dict = {}\n",
        "for line in teen_lst:\n",
        "    key, value = line.split('\\t')\n",
        "    teen_dict[key] = str(value)\n",
        "file.close()\n",
        "\n",
        "#LOAD STOPWORDS\n",
        "file = open('/content/drive/Othercomputers/My Laptop/MachineLearning/VNmese_student_feedbacks_sentiment/file_preprocess/vietnamese-stopwords-dash.txt', 'r', encoding=\"utf8\")\n",
        "stopwords_lst = file.read().split('\\n')\n",
        "file.close()"
      ],
      "metadata": {
        "id": "0q5UgY-5WA9p"
      },
      "execution_count": 11,
      "outputs": []
    },
    {
      "cell_type": "code",
      "source": [
        "def process_text(text, dict_teen):\n",
        "    document = text.lower() ##### LOWERCASE\n",
        "    document = document.replace(\"’\",'')\n",
        "    document = regex.sub(r'\\.+', \".\", document)\n",
        "    new_sentence =''\n",
        "    for sentence in sent_tokenize(document):\n",
        "        ###### CONVERT TEENCODE\n",
        "        sentence = ' '.join(dict_teen[word] if word in dict_teen else word for word in sentence.split())\n",
        "\n",
        "        ###### DEL Punctuation & Numbers\n",
        "        pattern = r'(?i)\\b[a-záàảãạăắằẳẵặâấầẩẫậéèẻẽẹêếềểễệóòỏõọôốồổỗộơớờởỡợíìỉĩịúùủũụưứừửữựýỳỷỹỵđ]+\\b'\n",
        "        sentence = ' '.join(regex.findall(pattern,sentence))\n",
        "\n",
        "        new_sentence = new_sentence + sentence\n",
        "\n",
        "    document = new_sentence\n",
        "     ###### DEL excess blank space\n",
        "    document = regex.sub(r'\\s+', ' ', document).strip()\n",
        "    return document"
      ],
      "metadata": {
        "id": "jqFNEVRNWPWZ"
      },
      "execution_count": 12,
      "outputs": []
    },
    {
      "cell_type": "code",
      "source": [
        "train_data['sentences'] = train_data['sentences'].apply(lambda x: process_text(str(x), teen_dict))"
      ],
      "metadata": {
        "id": "2T8q2OQpW4tE"
      },
      "execution_count": 13,
      "outputs": []
    },
    {
      "cell_type": "code",
      "source": [
        "test_data['sentences'] = test_data['sentences'].apply(lambda x: process_text(str(x), teen_dict))"
      ],
      "metadata": {
        "id": "2p7wEYVSW6Jl"
      },
      "execution_count": 14,
      "outputs": []
    },
    {
      "cell_type": "markdown",
      "source": [
        "### Process special word & postag"
      ],
      "metadata": {
        "id": "e7mmQdDkRnxi"
      }
    },
    {
      "cell_type": "code",
      "source": [
        "def process_special_word(text):\n",
        "    new_text = ''\n",
        "    text_lst = text.split()\n",
        "    i= 0\n",
        "    if 'không' in text_lst:\n",
        "        while i <= len(text_lst) - 1:\n",
        "            word = text_lst[i]\n",
        "            if  word == 'không':\n",
        "                next_idx = i+1\n",
        "                if next_idx <= len(text_lst) -1:\n",
        "                    word = word +'_'+ text_lst[next_idx]\n",
        "                i= next_idx + 1\n",
        "            else:\n",
        "                i = i+1\n",
        "            new_text = new_text + word + ' '\n",
        "    else:\n",
        "        new_text = text\n",
        "    return new_text.strip()"
      ],
      "metadata": {
        "id": "sAjEKUzlXG5C"
      },
      "execution_count": 15,
      "outputs": []
    },
    {
      "cell_type": "code",
      "source": [
        "def process_postag_thesea(text):\n",
        "    new_document = ''\n",
        "    for sentence in sent_tokenize(text):\n",
        "        sentence = sentence.replace('.','')\n",
        "        ###### POS tag\n",
        "        lst_word_type = ['A','AB','V','VB','VY','R']\n",
        "        sentence = ' '.join( word[0] if word[1].upper() in lst_word_type else '' for word in pos_tag(process_special_word(word_tokenize(sentence, format=\"text\"))))\n",
        "        new_document = new_document + sentence + ' '\n",
        "    ###### DEL excess blank space\n",
        "    new_document = regex.sub(r'\\s+', ' ', new_document).strip()\n",
        "    return new_document"
      ],
      "metadata": {
        "id": "XqnQB7o_XJ3J"
      },
      "execution_count": 16,
      "outputs": []
    },
    {
      "cell_type": "code",
      "source": [
        "train_data['sentences'] = train_data['sentences'].apply(lambda x: process_postag_thesea(str(x)))"
      ],
      "metadata": {
        "id": "kcqEaKlLXLv7"
      },
      "execution_count": 17,
      "outputs": []
    },
    {
      "cell_type": "code",
      "source": [
        "test_data['sentences'] = test_data['sentences'].apply(lambda x: process_postag_thesea(str(x)))"
      ],
      "metadata": {
        "id": "i33VA5tqXOOd"
      },
      "execution_count": 18,
      "outputs": []
    },
    {
      "cell_type": "markdown",
      "source": [
        "### Remove stopwords"
      ],
      "metadata": {
        "id": "4fqYfRKIRuQq"
      }
    },
    {
      "cell_type": "code",
      "source": [
        "def remove_stopword(text, stopwords):\n",
        "    ###### REMOVE stop words\n",
        "    document = ' '.join('' if word in stopwords else word for word in text.split())\n",
        "    #print(document)\n",
        "    ###### DEL excess blank space\n",
        "    document = regex.sub(r'\\s+', ' ', document).strip()\n",
        "    return document"
      ],
      "metadata": {
        "id": "381B4nOqXRFE"
      },
      "execution_count": 19,
      "outputs": []
    },
    {
      "cell_type": "code",
      "source": [
        "train_data['sentences'] = train_data['sentences'].apply(lambda x: remove_stopword(str(x), stopwords_lst))"
      ],
      "metadata": {
        "id": "JPyHlPyqXaAl"
      },
      "execution_count": 20,
      "outputs": []
    },
    {
      "cell_type": "code",
      "source": [
        "test_data['sentences'] = test_data['sentences'].apply(lambda x: remove_stopword(str(x), stopwords_lst))"
      ],
      "metadata": {
        "id": "RWaIh_msXdSf"
      },
      "execution_count": 21,
      "outputs": []
    },
    {
      "cell_type": "markdown",
      "source": [
        "### Empty rows"
      ],
      "metadata": {
        "id": "Y9Y98GJoRyMn"
      }
    },
    {
      "cell_type": "code",
      "source": [
        "def drop_empty_rows(df, column_name):\n",
        "    df_cleaned = df[df[column_name] != \"\"]\n",
        "    return df_cleaned"
      ],
      "metadata": {
        "id": "htD78FqtXgzN"
      },
      "execution_count": 22,
      "outputs": []
    },
    {
      "cell_type": "code",
      "source": [
        "train_data = drop_empty_rows(train_data, 'sentences')"
      ],
      "metadata": {
        "id": "4BqfHo0mXk2k"
      },
      "execution_count": 23,
      "outputs": []
    },
    {
      "cell_type": "code",
      "source": [
        "test_data = drop_empty_rows(test_data, 'sentences')"
      ],
      "metadata": {
        "id": "S7C4mnT_XmuD"
      },
      "execution_count": 24,
      "outputs": []
    },
    {
      "cell_type": "markdown",
      "source": [
        "### Feature Engineering & SMOTE"
      ],
      "metadata": {
        "id": "EUe2AqWOXsNo"
      }
    },
    {
      "cell_type": "code",
      "source": [
        "print(train_data['sentiments'].value_counts())\n",
        "train_data['sentiments'].value_counts().plot.bar()"
      ],
      "metadata": {
        "colab": {
          "base_uri": "https://localhost:8080/",
          "height": 548
        },
        "id": "n-TMBWI2XoVn",
        "outputId": "b4e24230-c025-4835-f531-6c3ddebd7d28"
      },
      "execution_count": 25,
      "outputs": [
        {
          "output_type": "stream",
          "name": "stdout",
          "text": [
            "sentiments\n",
            "0    4613\n",
            "2    4520\n",
            "1     243\n",
            "Name: count, dtype: int64\n"
          ]
        },
        {
          "output_type": "execute_result",
          "data": {
            "text/plain": [
              "<Axes: xlabel='sentiments'>"
            ]
          },
          "metadata": {},
          "execution_count": 25
        },
        {
          "output_type": "display_data",
          "data": {
            "text/plain": [
              "<Figure size 640x480 with 1 Axes>"
            ],
            "image/png": "[encoded data removed]"
          },
          "metadata": {}
        }
      ]
    },
    {
      "cell_type": "code",
      "source": [
        "X = train_data['sentences']\n",
        "y = train_data['sentiments']\n",
        "X_test = test_data['sentences']\n",
        "y_test = test_data['sentiments']"
      ],
      "metadata": {
        "id": "y9-KJ1rCXv-d"
      },
      "execution_count": 26,
      "outputs": []
    },
    {
      "cell_type": "code",
      "source": [
        "tfvectorizer = TfidfVectorizer()\n",
        "X = tfvectorizer.fit_transform(X)\n",
        "# Áp dụng SMOTE để tăng dữ liệu cho nhãn thiểu số\n",
        "smote = SMOTE(random_state=42)\n",
        "X_resampled, y_resampled = smote.fit_resample(X, y)"
      ],
      "metadata": {
        "id": "hO81-ZZ3XzWh"
      },
      "execution_count": 27,
      "outputs": []
    },
    {
      "cell_type": "code",
      "source": [
        "X_resampled_df = pd.DataFrame(X_resampled.toarray(), columns=tfvectorizer.get_feature_names_out())\n",
        "y_resampled_df = pd.DataFrame(y_resampled, columns=['sentiments'])\n",
        "print(y_resampled_df[\"sentiments\"].value_counts())"
      ],
      "metadata": {
        "colab": {
          "base_uri": "https://localhost:8080/"
        },
        "id": "K12lCKX4X3EA",
        "outputId": "1ccd74e4-9d36-443d-df28-ade68e1a1913"
      },
      "execution_count": 28,
      "outputs": [
        {
          "output_type": "stream",
          "name": "stdout",
          "text": [
            "sentiments\n",
            "2    4613\n",
            "0    4613\n",
            "1    4613\n",
            "Name: count, dtype: int64\n"
          ]
        }
      ]
    },
    {
      "cell_type": "code",
      "source": [
        "X_test = tfvectorizer.transform(X_test)"
      ],
      "metadata": {
        "id": "7gCOT_b8X4ci"
      },
      "execution_count": 29,
      "outputs": []
    },
    {
      "cell_type": "markdown",
      "source": [
        "# MultinomialNB"
      ],
      "metadata": {
        "id": "G1MkqFgmRFJR"
      }
    },
    {
      "cell_type": "code",
      "source": [
        "nb = MultinomialNB()\n",
        "param_grid = {\n",
        "    'alpha': [0.1, 0.5, 1.0, 2.0, 5.0],\n",
        "    'fit_prior': [True, False]\n",
        "}\n",
        "MNBgrid_search = GridSearchCV(estimator=nb, param_grid=param_grid, scoring='accuracy', cv=5, n_jobs=-1)\n",
        "MNBgrid_search.fit(X_resampled, y_resampled)\n",
        "print(MNBgrid_search.best_score_)\n",
        "print(\"Best parameters:\", MNBgrid_search.best_params_)\n",
        "best_mnb = MNBgrid_search.best_estimator_"
      ],
      "metadata": {
        "colab": {
          "base_uri": "https://localhost:8080/"
        },
        "id": "o3nePOwgX6K5",
        "outputId": "0dd5c28a-5820-42c4-acc7-775e6c909840"
      },
      "execution_count": 30,
      "outputs": [
        {
          "output_type": "stream",
          "name": "stdout",
          "text": [
            "0.7702866515142336\n",
            "Best parameters: {'alpha': 0.1, 'fit_prior': True}\n"
          ]
        }
      ]
    },
    {
      "cell_type": "code",
      "source": [
        "dump(best_mnb, '/content/drive/Othercomputers/My Laptop/MachineLearning/VNmese_student_feedbacks_sentiment/model_save/best_mnb.pkl')"
      ],
      "metadata": {
        "id": "2R0tuyZfArNO",
        "colab": {
          "base_uri": "https://localhost:8080/"
        },
        "outputId": "6542d275-76a7-49b4-9645-994818c8416e"
      },
      "execution_count": 31,
      "outputs": [
        {
          "output_type": "execute_result",
          "data": {
            "text/plain": [
              "['/content/drive/Othercomputers/My Laptop/MachineLearning/VNmese_student_feedbacks_sentiment/model_save/best_mnb.pkl']"
            ]
          },
          "metadata": {},
          "execution_count": 31
        }
      ]
    },
    {
      "cell_type": "markdown",
      "source": [
        "## Evaluation"
      ],
      "metadata": {
        "id": "2UfFFI9zS-f8"
      }
    },
    {
      "cell_type": "code",
      "source": [
        "best_mnb = load('/content/drive/Othercomputers/My Laptop/MachineLearning/VNmese_student_feedbacks_sentiment/model_save/best_mnb.pkl')\n",
        "y_pred_mnb = best_mnb.predict(X_test)\n",
        "acc_train = accuracy_score(y_true=y_resampled, y_pred=best_mnb.predict(X_resampled))\n",
        "accuracy = accuracy_score(y_test, y_pred_mnb)\n",
        "precision = precision_score(y_test, y_pred_mnb, average='weighted')\n",
        "recall = recall_score(y_test, y_pred_mnb, average='weighted')\n",
        "f1 = f1_score(y_test, y_pred_mnb, average='weighted')\n",
        "print(f\"Accuracy_train: {acc_train:.2f}\")\n",
        "print(f\"Accuracy_test: {accuracy:.2f}\")\n",
        "print(f\"Precision: {precision:.2f}\")\n",
        "print(f\"Recall: {recall:.2f}\")\n",
        "print(f\"F1 Score: {f1:.2f}\")"
      ],
      "metadata": {
        "colab": {
          "base_uri": "https://localhost:8080/"
        },
        "id": "-A0QNhucX8de",
        "outputId": "c3ca1edd-0860-4afc-b8c3-7e959e3a913d"
      },
      "execution_count": 32,
      "outputs": [
        {
          "output_type": "stream",
          "name": "stdout",
          "text": [
            "Accuracy_train: 0.82\n",
            "Accuracy_test: 0.73\n",
            "Precision: 0.78\n",
            "Recall: 0.73\n",
            "F1 Score: 0.75\n"
          ]
        }
      ]
    },
    {
      "cell_type": "code",
      "source": [
        "cm = confusion_matrix(y_test, y_pred_mnb)\n",
        "plt.figure(figsize=(8, 6))\n",
        "sns.heatmap(cm, annot=True, fmt=\"d\", cmap=\"Blues\", xticklabels=MNBgrid_search.classes_, yticklabels=MNBgrid_search.classes_)\n",
        "plt.title(\"Confusion Matrix\")\n",
        "plt.xlabel(\"Predicted Label\")\n",
        "plt.ylabel(\"True Label\")\n",
        "plt.show()\n",
        "print(pd.DataFrame(cm))"
      ],
      "metadata": {
        "colab": {
          "base_uri": "https://localhost:8080/",
          "height": 633
        },
        "id": "qiFB_YZOYCZ5",
        "outputId": "a7cec6af-c61f-426b-b561-cffdadecf31a"
      },
      "execution_count": 33,
      "outputs": [
        {
          "output_type": "display_data",
          "data": {
            "text/plain": [
              "<Figure size 800x600 with 2 Axes>"
            ],
            "image/png": "[encoded data removed]"
          },
          "metadata": {}
        },
        {
          "output_type": "stream",
          "name": "stdout",
          "text": [
            "     0    1     2\n",
            "0  829  176   209\n",
            "1   35   32    29\n",
            "2  186   70  1050\n"
          ]
        }
      ]
    },
    {
      "cell_type": "markdown",
      "source": [
        "# RandomForestClassifier"
      ],
      "metadata": {
        "id": "_tPmY9V1Q6UJ"
      }
    },
    {
      "cell_type": "code",
      "source": [
        "param_grid = {\n",
        "    'max_depth': [3,5,7,10],\n",
        "    'n_estimators': [100, 200, 300, 400, 500],\n",
        "    'max_features': [10, 20, 30 , 40],\n",
        "    'min_samples_leaf': [1, 2, 4],\n",
        "    'class_weight': ['balanced']\n",
        "}\n",
        "RFmodel = RandomForestClassifier()\n",
        "RFgrid_search = GridSearchCV(estimator=RFmodel, param_grid=param_grid, scoring='accuracy', cv=5, n_jobs=-1)\n",
        "RFgrid_search.fit(X_resampled, y_resampled)\n",
        "print('Best score:', RFgrid_search.best_score_)\n",
        "print(\"Best parameters:\", RFgrid_search.best_params_)\n",
        "best_RF = RFgrid_search.best_estimator_"
      ],
      "metadata": {
        "colab": {
          "base_uri": "https://localhost:8080/"
        },
        "id": "SHdz3OkSYF7b",
        "outputId": "38cc5e6f-a5c1-43bd-ba2c-e9640dbb7e5e"
      },
      "execution_count": 34,
      "outputs": [
        {
          "output_type": "stream",
          "name": "stdout",
          "text": [
            "Best score: 0.7762122642790443\n",
            "Best parameters: {'class_weight': 'balanced', 'max_depth': 10, 'max_features': 10, 'min_samples_leaf': 1, 'n_estimators': 400}\n"
          ]
        }
      ]
    },
    {
      "cell_type": "code",
      "source": [
        "dump(best_RF, '/content/drive/Othercomputers/My Laptop/MachineLearning/VNmese_student_feedbacks_sentiment/model_save/best_RF.pkl')"
      ],
      "metadata": {
        "id": "Hkn1esZ7BImq",
        "colab": {
          "base_uri": "https://localhost:8080/"
        },
        "outputId": "1ddc8816-b643-458a-9efa-b3afe2600e77"
      },
      "execution_count": 35,
      "outputs": [
        {
          "output_type": "execute_result",
          "data": {
            "text/plain": [
              "['/content/drive/Othercomputers/My Laptop/MachineLearning/VNmese_student_feedbacks_sentiment/model_save/best_RF.pkl']"
            ]
          },
          "metadata": {},
          "execution_count": 35
        }
      ]
    },
    {
      "cell_type": "markdown",
      "source": [
        "## Evaluation"
      ],
      "metadata": {
        "id": "SV42c0HVS3YU"
      }
    },
    {
      "cell_type": "code",
      "source": [
        "best_RF = load('/content/drive/Othercomputers/My Laptop/MachineLearning/VNmese_student_feedbacks_sentiment/model_save/best_RF.pkl')\n",
        "y_pred_RF = best_RF.predict(X_test)\n",
        "acc_train = accuracy_score(y_true=y_resampled, y_pred=best_RF.predict(X_resampled))\n",
        "accuracy = accuracy_score(y_test, y_pred_RF)\n",
        "precision = precision_score(y_test, y_pred_RF, average='weighted')\n",
        "recall = recall_score(y_test, y_pred_RF, average='weighted')\n",
        "f1 = f1_score(y_test, y_pred_RF, average='weighted')\n",
        "print(f\"Accuracy_train: {acc_train:.2f}\")\n",
        "print(f\"Accuracy_test: {accuracy:.2f}\")\n",
        "print(f\"Precision: {precision:.2f}\")\n",
        "print(f\"Recall: {recall:.2f}\")\n",
        "print(f\"F1 Score: {f1:.2f}\")"
      ],
      "metadata": {
        "id": "HuUiaCErYK95",
        "colab": {
          "base_uri": "https://localhost:8080/"
        },
        "outputId": "c0ba4b66-2d29-4d9a-a5bd-75ae26bbefc1"
      },
      "execution_count": 36,
      "outputs": [
        {
          "output_type": "stream",
          "name": "stdout",
          "text": [
            "Accuracy_train: 0.81\n",
            "Accuracy_test: 0.74\n",
            "Precision: 0.76\n",
            "Recall: 0.74\n",
            "F1 Score: 0.75\n"
          ]
        }
      ]
    },
    {
      "cell_type": "code",
      "source": [
        "cm = confusion_matrix(y_test, y_pred_RF)\n",
        "plt.figure(figsize=(8, 6))\n",
        "sns.heatmap(cm, annot=True, fmt=\"d\", cmap=\"Blues\", xticklabels=best_RF.classes_, yticklabels=best_RF.classes_)\n",
        "plt.title(\"Confusion Matrix\")\n",
        "plt.xlabel(\"Predicted Label\")\n",
        "plt.ylabel(\"True Label\")\n",
        "plt.show()\n",
        "print(pd.DataFrame(cm))"
      ],
      "metadata": {
        "colab": {
          "base_uri": "https://localhost:8080/",
          "height": 633
        },
        "id": "RcKhB2hyGgsH",
        "outputId": "cf796c79-67e4-455e-fbe9-3fb6a587fe27"
      },
      "execution_count": 37,
      "outputs": [
        {
          "output_type": "display_data",
          "data": {
            "text/plain": [
              "<Figure size 800x600 with 2 Axes>"
            ],
            "image/png": "[encoded data removed]"
          },
          "metadata": {}
        },
        {
          "output_type": "stream",
          "name": "stdout",
          "text": [
            "     0    1     2\n",
            "0  905  108   201\n",
            "1   55   15    26\n",
            "2  247   38  1021\n"
          ]
        }
      ]
    },
    {
      "cell_type": "markdown",
      "source": [
        "# XGBoostClassifier"
      ],
      "metadata": {
        "id": "b_stAEYqbWY1"
      }
    },
    {
      "cell_type": "code",
      "source": [
        "param_grid = {\n",
        "  'n_estimators':[50,100,200],\n",
        "  'learning_rate':[0.01,0.05,0.1],\n",
        "  'max_depth':[3,5,7],\n",
        "  'reg_alpha': [0, 0.1, 1],\n",
        "  'reg_lambda': [1, 1.5, 2]\n",
        "}\n",
        "xgb_model = xgb.XGBClassifier()\n",
        "XGBgrid_search = GridSearchCV(estimator=xgb_model, param_grid=param_grid, scoring='accuracy', cv=5, n_jobs=-1)\n",
        "XGBgrid_search.fit(X_resampled, y_resampled)\n",
        "print('Best score:', XGBgrid_search.best_score_)\n",
        "print(\"Best parameters:\", XGBgrid_search.best_params_)\n",
        "best_XGB = XGBgrid_search.best_estimator_"
      ],
      "metadata": {
        "colab": {
          "base_uri": "https://localhost:8080/"
        },
        "id": "00JONErla7z_",
        "outputId": "e3d007fe-26d7-453d-b8c7-e9ee807831ed"
      },
      "execution_count": 39,
      "outputs": [
        {
          "output_type": "stream",
          "name": "stdout",
          "text": [
            "Best score: 0.8064893898151417\n",
            "Best parameters: {'learning_rate': 0.1, 'max_depth': 7, 'n_estimators': 200, 'reg_alpha': 0, 'reg_lambda': 1}\n"
          ]
        }
      ]
    },
    {
      "cell_type": "code",
      "source": [
        "dump(best_XGB, '/content/drive/Othercomputers/My Laptop/MachineLearning/VNmese_student_feedbacks_sentiment/model_save/best_XGB.pkl')"
      ],
      "metadata": {
        "colab": {
          "base_uri": "https://localhost:8080/"
        },
        "id": "b3vLoDu3y7d8",
        "outputId": "b6cd09be-8787-406e-e2d5-a5fc053200ec"
      },
      "execution_count": 40,
      "outputs": [
        {
          "output_type": "execute_result",
          "data": {
            "text/plain": [
              "['/content/drive/Othercomputers/My Laptop/MachineLearning/VNmese_student_feedbacks_sentiment/model_save/best_XGB.pkl']"
            ]
          },
          "metadata": {},
          "execution_count": 40
        }
      ]
    },
    {
      "cell_type": "markdown",
      "source": [
        "## Evaluation"
      ],
      "metadata": {
        "id": "I7R3KKqcbbpN"
      }
    },
    {
      "cell_type": "code",
      "source": [
        "best_XGB = load('/content/drive/Othercomputers/My Laptop/MachineLearning/VNmese_student_feedbacks_sentiment/model_save/best_XGB.pkl')\n",
        "y_pred_XGB = best_XGB.predict(X_test)\n",
        "acc_train = accuracy_score(y_true=y_resampled, y_pred=best_XGB.predict(X_resampled))\n",
        "accuracy = accuracy_score(y_test, y_pred_XGB)\n",
        "precision = precision_score(y_test, y_pred_XGB, average='weighted')\n",
        "recall = recall_score(y_test, y_pred_XGB, average='weighted')\n",
        "f1 = f1_score(y_test, y_pred_XGB, average='weighted')\n",
        "print(f\"Accuracy_train: {acc_train:.2f}\")\n",
        "print(f\"Accuracy_test: {accuracy:.2f}\")\n",
        "print(f\"Precision: {precision:.2f}\")\n",
        "print(f\"Recall: {recall:.2f}\")\n",
        "print(f\"F1 Score: {f1:.2f}\")"
      ],
      "metadata": {
        "colab": {
          "base_uri": "https://localhost:8080/"
        },
        "id": "RfakpDIMbc-q",
        "outputId": "9c08e5e3-f72c-480d-f8f1-1248a5e26109"
      },
      "execution_count": 41,
      "outputs": [
        {
          "output_type": "stream",
          "name": "stdout",
          "text": [
            "Accuracy_train: 0.84\n",
            "Accuracy_test: 0.75\n",
            "Precision: 0.76\n",
            "Recall: 0.75\n",
            "F1 Score: 0.75\n"
          ]
        }
      ]
    },
    {
      "cell_type": "code",
      "source": [
        "cm = confusion_matrix(y_test, y_pred_XGB)\n",
        "plt.figure(figsize=(8, 6))\n",
        "sns.heatmap(cm, annot=True, fmt=\"d\", cmap=\"Blues\", xticklabels=best_XGB.classes_, yticklabels=best_XGB.classes_)\n",
        "plt.title(\"Confusion Matrix\")\n",
        "plt.xlabel(\"Predicted Label\")\n",
        "plt.ylabel(\"True Label\")\n",
        "plt.show()\n",
        "print(pd.DataFrame(cm))"
      ],
      "metadata": {
        "colab": {
          "base_uri": "https://localhost:8080/",
          "height": 633
        },
        "id": "vM2A_DJXyz8l",
        "outputId": "71b98115-75cd-4943-e5d0-5b18ec8376dc"
      },
      "execution_count": 42,
      "outputs": [
        {
          "output_type": "display_data",
          "data": {
            "text/plain": [
              "<Figure size 800x600 with 2 Axes>"
            ],
            "image/png": "[encoded data removed]"
          },
          "metadata": {}
        },
        {
          "output_type": "stream",
          "name": "stdout",
          "text": [
            "     0   1    2\n",
            "0  995  64  155\n",
            "1   62  10   24\n",
            "2  321  26  959\n"
          ]
        }
      ]
    }
  ]
}